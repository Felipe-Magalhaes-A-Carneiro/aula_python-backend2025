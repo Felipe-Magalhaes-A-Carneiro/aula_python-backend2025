{
 "cells": [
  {
   "cell_type": "markdown",
   "metadata": {
    "id": "7cSjkBggT5jc"
   },
   "source": [
    "# **Exercício 1:**\n",
    "\n",
    "---\n",
    "\n",
    "Faça um programa que calcule a raiz quadrada de um número inteiro fornecido pelo usuário.\n",
    "Utilize a biblioteca *math* para realizar o cálculo.\n",
    "\n",
    "[Link para a Documentação do math](https://docs.python.org/pt-br/3/library/math.html#module-math)\n",
    "\n"
   ]
  },
  {
   "cell_type": "code",
   "execution_count": 7,
   "metadata": {
    "id": "Z_bnJxYGT0_o"
   },
   "outputs": [
    {
     "name": "stdout",
     "output_type": "stream",
     "text": [
      "A raiz de 2 é 1.\n"
     ]
    }
   ],
   "source": [
    "import math\n",
    "\n",
    "# faça o código aqui #\n",
    "numero = int(input(\"Digite o número e retornaremos a sua raiz quadrada. \"))\n",
    "\n",
    "raiz = math.isqrt(numero)\n",
    "\n",
    "print(f\"A raiz de {numero} é {raiz}.\")\n"
   ]
  },
  {
   "cell_type": "markdown",
   "metadata": {
    "id": "Sa1-LWktUG_z"
   },
   "source": [
    "# **Exercício 2:**\n",
    "\n",
    "---\n",
    "\n",
    "Crie um programa que gere um número aleatório entre 1 e 100 e peça ao usuário para adivinhar qual é esse número. Utilize *randint* da biblioteca *random* para gerar o número aleatório.\n",
    "\n",
    "[Link para a Documentação do random](https://docs.python.org/pt-br/3/library/random.html#random.randint)"
   ]
  },
  {
   "cell_type": "code",
   "execution_count": null,
   "metadata": {
    "id": "9iOJpg0_ULDC"
   },
   "outputs": [
    {
     "name": "stdout",
     "output_type": "stream",
     "text": [
      "Que pena! O numero_secreto era 77.\n"
     ]
    }
   ],
   "source": [
    "from random import randint as ri\n",
    "\n",
    "# faça o código aqui #\n",
    "numero_secreto = ri(1,100)\n",
    "\n",
    "escolha = int(input(\"Temos um número secreto. Será você descobre qual é? Faça uma tentativa:\"))\n",
    "\n",
    "\n",
    "if escolha != numero_secreto:\n",
    "    print(f\"{escolha}? Que pena! O numero_secreto era {numero_secreto}.\")\n",
    "else:\n",
    "    print(f\"Parabéns! O numero secreto é {numero_secreto}.\")"
   ]
  },
  {
   "cell_type": "markdown",
   "metadata": {
    "id": "vrAwGLX3UXLq"
   },
   "source": [
    "# **Exercício 3:**\n",
    "\n",
    "---\n",
    "Crie um programa que solicite ao usuário um nome de arquivo e, em seguida, leia o conteúdo desse arquivo e conte quantas palavras diferentes existem no texto. Utilize *Counter* da biblioteca *collections* para ajudar na contagem.\n",
    "\n",
    "[Link para a Documentação do collections](https://docs.python.org/3/library/collections.html#counter-objects)\n",
    "\n"
   ]
  },
  {
   "cell_type": "code",
   "execution_count": 22,
   "metadata": {
    "id": "7x4SlXfjQcFS"
   },
   "outputs": [
    {
     "name": "stdout",
     "output_type": "stream",
     "text": [
      "Counter({'a': 2, 'C': 1, 's': 1})\n"
     ]
    }
   ],
   "source": [
    "from collections import Counter\n",
    "\n",
    "# faça o código aqui #\n",
    "\n",
    "\n",
    "arquivo = input(\"Digite o nome do arquivo: \")\n",
    "\n",
    "print(Counter(arquivo))\n",
    "\n"
   ]
  },
  {
   "cell_type": "markdown",
   "metadata": {
    "id": "RA7LpHIHUgcT"
   },
   "source": [
    "# **Exercício 4:**\n",
    "\n",
    "---\n",
    "Crie um programa usando a biblioteca *tkinter* que exiba uma janela com um botão. Quando o botão for clicado, exiba uma mensagem de saudação usando a função *messagebox.showinfo()*.\n",
    "\n",
    "[Link para a Documentação do Tkinter](https://docs.python.org/pt-br/3/library/tk.html)\n",
    "\n",
    "[Site com tutorial em português](https://www.dio.me/articles/o-que-e-e-como-utilizar-a-biblioteca-tkinter-em-python)"
   ]
  },
  {
   "cell_type": "code",
   "execution_count": 44,
   "metadata": {
    "id": "01QBl5HWU2xj"
   },
   "outputs": [],
   "source": [
    "import tkinter as tk\n",
    "from tkinter import messagebox\n",
    "\n",
    "# faça o código aqui #\n",
    "\n",
    "def exibir_mensagem():\n",
    "    messagebox.showinfo(title = \"Saudação!\", message = \"Olá! Esse é o funcionamento de um botão, na biblioteca Tkinter\")\n",
    "\n",
    "janela = tk.Tk()\n",
    "janela.title(\"Tkinter - Mensagem de Saudação\")\n",
    "\n",
    "rotulo = tk.Label(janela, text=\"Saiba como funciona um botão no Tkinter: Clique no botão...\")\n",
    "rotulo.pack()\n",
    "\n",
    "botao = tk.Button(janela, text= \"Sou um simples botão\", command=exibir_mensagem)\n",
    "botao.pack()\n",
    "\n",
    "janela.mainloop()"
   ]
  },
  {
   "cell_type": "markdown",
   "metadata": {
    "id": "qoozLEBUZeDa"
   },
   "source": [
    "# **Exercício 5:**\n",
    "\n",
    "---\n",
    "Crie um programa que utilize a biblioteca *pandas* para ler um arquivo CSV chamado \"dados.csv\".\n",
    "\n",
    "O arquivo contém uma coluna chamada \"idade\". Calcule a média das idades utilizando o método *.mean()* e exiba o resultado.\n",
    "\n",
    "[Link para a Documentação do Pandas](https://pandas.pydata.org/docs/reference/api/pandas.read_csv.html)\n"
   ]
  },
  {
   "cell_type": "code",
   "execution_count": null,
   "metadata": {
    "id": "BzqGllCyQcFT"
   },
   "outputs": [],
   "source": [
    "# Cole o texto abaixo no seu arquivo dados.csv #\n",
    "\n",
    "idade,\n",
    "5,\n",
    "67,\n",
    "56,\n",
    "78,\n",
    "12"
   ]
  },
  {
   "cell_type": "code",
   "execution_count": 37,
   "metadata": {
    "id": "56Mo2YGCZjg5"
   },
   "outputs": [
    {
     "name": "stdout",
     "output_type": "stream",
     "text": [
      "0     5\n",
      "1    67\n",
      "2    56\n",
      "3    78\n",
      "4    12\n",
      "Name: idade, dtype: int64\n",
      "A média de idades é: 43.6\n"
     ]
    }
   ],
   "source": [
    "import pandas as pd\n",
    "\n",
    "# faça o código aqui #\n",
    "df = pd.read_csv('dados.csv')\n",
    "\n",
    "print(df['idade'])\n",
    "\n",
    "media_idades = df['idade'].mean()\n",
    "\n",
    "print(f\"A média de idades é: {media_idades}\")"
   ]
  },
  {
   "cell_type": "markdown",
   "metadata": {
    "id": "CrGJ4bNpZkl5"
   },
   "source": [
    "# **Exercício 6:**\n",
    "\n",
    "---\n",
    "Crie um programa que utilize as bibliotecas *pandas* e *matplotlib* para ler um arquivo CSV chamado \"dados2.csv\".\n",
    "\n",
    "O arquivo contém duas colunas: \"nome\" e \"pontuacao\". Exiba um gráfico de barras utilizando o método *.bar()* do *matplotlib.pyplot*, passando os nomes como valores no eixo x e as pontuações como valores no eixo y.\n",
    "\n",
    "[Link para a Documentação do Pandas](https://pandas.pydata.org/docs/reference/api/pandas.read_csv.html)\n",
    "\n",
    "[Link para a documentação do matplotlib](https://matplotlib.org/stable/api/_as_gen/matplotlib.pyplot.bar.html)"
   ]
  },
  {
   "cell_type": "code",
   "execution_count": null,
   "metadata": {
    "id": "ZZYq1YsVQcFU"
   },
   "outputs": [],
   "source": [
    "# Cole o texto abaixo no seu arquivo dados2.csv #\n",
    "\n",
    "nome,pontuacao\n",
    "jose,120\n",
    "maria,200\n",
    "joao,300\n",
    "anderson,400\n",
    "johnny,450"
   ]
  },
  {
   "cell_type": "code",
   "execution_count": 49,
   "metadata": {
    "id": "fX2Psu7AaNBT"
   },
   "outputs": [
    {
     "data": {
      "image/png": "[encoded data removed]",
      "text/plain": [
       "<Figure size 640x480 with 1 Axes>"
      ]
     },
     "metadata": {},
     "output_type": "display_data"
    }
   ],
   "source": [
    "import pandas as pd\n",
    "import matplotlib.pyplot as plt\n",
    "\n",
    "# faça o código aqui #\n",
    "\n",
    "df = pd.read_csv('dados2.csv')\n",
    "\n",
    "df.plot.bar(x = 'nome', y = 'pontuacao')\n",
    "\n",
    "plt.show()\n"
   ]
  },
  {
   "cell_type": "markdown",
   "metadata": {
    "id": "FcKEWq2RQcFU"
   },
   "source": [
    "# **Exercício 7:**\n",
    "\n",
    "---\n",
    "Crie um programa que liste todos os arquivos em um diretório específico usando os.listdir()\n",
    "\n",
    "[Link para a Documentação do OS](https://docs.python.org/pt-br/3/library/os.html)"
   ]
  },
  {
   "cell_type": "code",
   "execution_count": null,
   "metadata": {
    "id": "uaYE9KFVQcFU"
   },
   "outputs": [],
   "source": [
    "import os\n",
    "from pathlib import Path\n",
    "\n",
    "# faça o código aqui #"
   ]
  }
 ],
 "metadata": {
  "colab": {
   "provenance": []
  },
  "kernelspec": {
   "display_name": "Python 3",
   "language": "python",
   "name": "python3"
  },
  "language_info": {
   "codemirror_mode": {
    "name": "ipython",
    "version": 3
   },
   "file_extension": ".py",
   "mimetype": "text/x-python",
   "name": "python",
   "nbconvert_exporter": "python",
   "pygments_lexer": "ipython3",
   "version": "3.14.0"
  }
 },
 "nbformat": 4,
 "nbformat_minor": 0
}
